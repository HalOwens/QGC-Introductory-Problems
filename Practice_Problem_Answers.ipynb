{
 "cells": [
  {
   "cell_type": "code",
   "execution_count": null,
   "metadata": {},
   "outputs": [],
   "source": [
    "open Microsoft.Quantum.Arrays;\n",
    "open Microsoft.Quantum.Diagnostics;\n",
    "open Microsoft.Quantum.Measurement;"
   ]
  },
  {
   "cell_type": "code",
   "execution_count": null,
   "metadata": {},
   "outputs": [],
   "source": [
    "operation PreparePlusQubit () : Result {\n",
    "    // Initialize a qubit in the |0⟩ state.\n",
    "    use qubit = Qubit() {\n",
    "        // Prepare a qubit in the |+⟩ state.\n",
    "        H(qubit);\n",
    "\n",
    "        // Measure the qubit.\n",
    "        let result = MResetZ(qubit);\n",
    "\n",
    "        // Return the measurement result.\n",
    "        return result;\n",
    "    }\n",
    "}\n",
    "\n",
    "operation BellState () : Result[] {\n",
    "    // Initialize two qubits in the |0⟩ state.\n",
    "    use (qubit1, qubit2) = (Qubit(), Qubit()) {\n",
    "        // Prepare a Bell state.\n",
    "        H(qubit1);\n",
    "        CNOT(qubit1, qubit2);\n",
    "\n",
    "        // Measure the qubits.\n",
    "        let result1 = MResetZ(qubit1);\n",
    "        let result2 = MResetZ(qubit2);\n",
    "\n",
    "        // Return the measurement results.\n",
    "        return [result1, result2];\n",
    "    }\n",
    "}\n",
    "\n",
    "operation NQubitBellState(n : Int) : Result[] {\n",
    "    // Initialize two qubits in the |0⟩ state.\n",
    "    use qubits = Qubit[n] {\n",
    "        // Prepare one qubit in the |+⟩ state.\n",
    "        H(qubits[0]);\n",
    "\n",
    "        // Prepare Bell state on all qubits.\n",
    "        for i in 1 .. n-1 {\n",
    "            CNOT(qubits[i-1], qubits[i]);\n",
    "        }\n",
    "\n",
    "        // Measure the qubits.\n",
    "        let results = MultiM(qubits);\n",
    "\n",
    "        // Return the measurement results.\n",
    "        return results;\n",
    "    }\n",
    "}"
   ]
  }
 ],
 "metadata": {
  "kernelspec": {
   "display_name": "Q#",
   "language": "qsharp",
   "name": "iqsharp"
  },
  "language_info": {
   "file_extension": ".qs",
   "mimetype": "text/x-qsharp",
   "name": "qsharp",
   "version": "0.14"
  },
  "orig_nbformat": 4,
  "vscode": {
   "interpreter": {
    "hash": "84a3d7fda32a07a8ccc496d4f2ca1f9c029ac1ca6c013db9f3aa913bda7c5b04"
   }
  }
 },
 "nbformat": 4,
 "nbformat_minor": 2
}
