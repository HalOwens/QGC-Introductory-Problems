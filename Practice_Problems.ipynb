{
 "cells": [
  {
   "cell_type": "markdown",
   "metadata": {},
   "source": [
    "# Quantum Game Club Introductory Practice Problems\n",
    "\n",
    "This is a set of practice problems meant to act as an introduction to basic quantum programming. Here you will learn how to allocate qubits and apply various single and multi qubit gates."
   ]
  },
  {
   "cell_type": "markdown",
   "metadata": {},
   "source": [
    "We will begin by importing various utility functions from the Q# library. If you would like to find out more about what they do individually, you may find them [HERE](https://learn.microsoft.com/en-us/qsharp/api/qsharp/). Remember to run the cell below before continuing.\n"
   ]
  },
  {
   "cell_type": "code",
   "execution_count": null,
   "metadata": {},
   "outputs": [],
   "source": [
    "// This namespace contains functions for creating and manipulating arrays of data.\n",
    "open Microsoft.Quantum.Arrays;\n",
    "\n",
    "// This namespace contains function and operations that help ensure correctness of Q# programs and inspect their behavior.\n",
    "open Microsoft.Quantum.Diagnostics;\n",
    "\n",
    "// This namespace contains operations for performing measurements beyond the basic measurement operations available in the Microsoft.Quantum.Intrinsic namespace.\n",
    "open Microsoft.Quantum.Measurement;"
   ]
  },
  {
   "cell_type": "markdown",
   "metadata": {},
   "source": [
    "# Exercise 1 - Initialize $|+\\rangle$ Qubit\n",
    "\n",
    "For this particular question we want to generate a qubit in the |+⟩ state.\n",
    "Hints are included within the operation itself.\n",
    ">The operation takes no input and outputs a measurement result\n"
   ]
  },
  {
   "cell_type": "code",
   "execution_count": null,
   "metadata": {},
   "outputs": [],
   "source": [
    "operation PreparePlusQubit () : Result {\n",
    "    // TODO\n",
    "    // Initialize a qubit in the |0⟩ state.\n",
    "    // Prepare a qubit in the |+⟩ state.\n",
    "    // Measure the qubit.\n",
    "    // Return the measurement result.\n",
    "}"
   ]
  },
  {
   "cell_type": "markdown",
   "metadata": {},
   "source": [
    "You can Simulate a quantum machine by using\n",
    "    \n",
    "> %simulate [operation]\n",
    "        "
   ]
  },
  {
   "cell_type": "code",
   "execution_count": null,
   "metadata": {},
   "outputs": [],
   "source": [
    "// You can simulate the above operation using the following code:\n",
    "%simulate PreparePlusQubit"
   ]
  },
  {
   "cell_type": "markdown",
   "metadata": {},
   "source": [
    "# Exercise 2 - Prepare Bell State\n",
    "For this operation we want to intialize two qubits and return the measurement of the bell state\n",
    "> The operation takes no input and outputs a measurement array"
   ]
  },
  {
   "cell_type": "code",
   "execution_count": null,
   "metadata": {},
   "outputs": [],
   "source": [
    "operation BellState () : Result[] {\n",
    "    // TODO\n",
    "    // Initialize two qubits in the |0⟩ state.\n",
    "    // Prepare a Bell state.\n",
    "    // Measure the qubits.\n",
    "    // Return the measurement results.\n",
    "}"
   ]
  },
  {
   "cell_type": "code",
   "execution_count": null,
   "metadata": {},
   "outputs": [],
   "source": [
    "%simulate BellState"
   ]
  },
  {
   "cell_type": "markdown",
   "metadata": {},
   "source": [
    "# Exercise 3 - Measure an N Qubit Bell State\n",
    "Similar to the BellState operation, we want to initialize N qubits and then put all N qubits into a Bell state and measure them.\n",
    "\n",
    "> The operation takes 1 input, N, and returns an array of type 'Result'"
   ]
  },
  {
   "cell_type": "code",
   "execution_count": null,
   "metadata": {},
   "outputs": [],
   "source": [
    "operation NQubitBellState(N : Int) : Result[] {\n",
    "    // TODO\n",
    "    // Initialize two qubits in the |0⟩ state.\n",
    "    // Prepare one qubit in the |+⟩ state.\n",
    "    // Prepare Bell state on all qubits.\n",
    "    // Measure the qubits.\n",
    "    // Return the measurement results.\n",
    "}"
   ]
  },
  {
   "cell_type": "code",
   "execution_count": null,
   "metadata": {},
   "outputs": [],
   "source": [
    "%simulate NQubitBellState"
   ]
  },
  {
   "cell_type": "markdown",
   "metadata": {},
   "source": [
    "# IonQ Access\n",
    ">Once you have completed the above exercises, you can try running your code on an actual quantum machine. You should have acacess to your azure quantum token via your azure portal. Put your token below to get started. An example token has been provided below, but you should replace it with your own token. For more [details](https://learn.microsoft.com/en-us/qsharp/api/iqsharp-magic/azure.connect)\n"
   ]
  },
  {
   "cell_type": "code",
   "execution_count": null,
   "metadata": {},
   "outputs": [],
   "source": [
    "%azure.connect \"*********************************************************************************\" location=\"******\"\n"
   ]
  },
  {
   "cell_type": "markdown",
   "metadata": {},
   "source": [
    "> After you have connected to the IonQ machine, you can try running one of your operation on the QPU by using the following [command](https://learn.microsoft.com/en-us/qsharp/api/iqsharp-magic/azure.execute). Remember to replace **[OPERATION]** with the name of the operation you want to run."
   ]
  },
  {
   "cell_type": "code",
   "execution_count": null,
   "metadata": {},
   "outputs": [],
   "source": [
    "%azure.target ionq.qpu\n",
    "%azure.execute [OPERATION]"
   ]
  },
  {
   "cell_type": "markdown",
   "metadata": {},
   "source": [
    "> It may take a while for the result to come back, so be patient! You can check the status of your job by using the following [command](https://learn.microsoft.com/en-us/qsharp/api/iqsharp-magic/azure.status)."
   ]
  },
  {
   "cell_type": "code",
   "execution_count": null,
   "metadata": {},
   "outputs": [],
   "source": [
    "%azure.status [JOB_ID]"
   ]
  },
  {
   "cell_type": "markdown",
   "metadata": {},
   "source": [
    "> To get the result of your job, you can use the following [command](https://learn.microsoft.com/en-us/qsharp/api/iqsharp-magic/azure.output)."
   ]
  },
  {
   "cell_type": "code",
   "execution_count": null,
   "metadata": {},
   "outputs": [],
   "source": [
    "%%azure.output [JOB_ID]"
   ]
  }
 ],
 "metadata": {
  "kernelspec": {
   "display_name": "Q#",
   "language": "qsharp",
   "name": "iqsharp"
  },
  "language_info": {
   "file_extension": ".qs",
   "mimetype": "text/x-qsharp",
   "name": "qsharp",
   "version": "0.14"
  },
  "orig_nbformat": 4,
  "vscode": {
   "interpreter": {
    "hash": "84a3d7fda32a07a8ccc496d4f2ca1f9c029ac1ca6c013db9f3aa913bda7c5b04"
   }
  }
 },
 "nbformat": 4,
 "nbformat_minor": 2
}
