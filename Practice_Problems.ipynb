{
 "cells": [
  {
   "cell_type": "code",
   "execution_count": 3,
   "metadata": {},
   "outputs": [
    {
     "data": {
      "application/x-qsharp-data": "[]",
      "text/html": [
       "<ul></ul>"
      ],
      "text/plain": []
     },
     "execution_count": 3,
     "metadata": {},
     "output_type": "execute_result"
    }
   ],
   "source": [
    "open Microsoft.Quantum.Arrays;\n",
    "open Microsoft.Quantum.Diagnostics;\n",
    "open Microsoft.Quantum.Canon;\n",
    "open Microsoft.Quantum.Measurement;\n",
    "open Microsoft.Quantum.Logical;"
   ]
  },
  {
   "cell_type": "code",
   "execution_count": 206,
   "metadata": {},
   "outputs": [
    {
     "data": {
      "application/x-qsharp-data": "[\"ghz\"]",
      "text/html": [
       "<ul><li>ghz</li></ul>"
      ],
      "text/plain": [
       "ghz"
      ]
     },
     "execution_count": 206,
     "metadata": {},
     "output_type": "execute_result"
    }
   ],
   "source": [
    "operation ghz() : Result[] {\n",
    "    use q = Qubit[3];\n",
    "    H(q[0]);\n",
    "    CNOT(q[0], q[1]);\n",
    "    CNOT(q[0], q[2]);\n",
    "    return MultiM(q);\n",
    "}"
   ]
  },
  {
   "cell_type": "code",
   "execution_count": 242,
   "metadata": {},
   "outputs": [
    {
     "data": {
      "application/x-qsharp-data": "[0,0,0]",
      "text/html": [
       "<ul><li>Zero</li><li>Zero</li><li>Zero</li></ul>"
      ],
      "text/plain": [
       "Zero, Zero, Zero"
      ]
     },
     "execution_count": 242,
     "metadata": {},
     "output_type": "execute_result"
    }
   ],
   "source": [
    "%simulate ghz"
   ]
  }
 ],
 "metadata": {
  "kernelspec": {
   "display_name": "Q#",
   "language": "qsharp",
   "name": "iqsharp"
  },
  "language_info": {
   "file_extension": ".qs",
   "mimetype": "text/x-qsharp",
   "name": "qsharp",
   "version": "0.14"
  },
  "orig_nbformat": 4,
  "vscode": {
   "interpreter": {
    "hash": "84a3d7fda32a07a8ccc496d4f2ca1f9c029ac1ca6c013db9f3aa913bda7c5b04"
   }
  }
 },
 "nbformat": 4,
 "nbformat_minor": 2
}
